{
 "cells": [
  {
   "cell_type": "markdown",
   "source": [],
   "metadata": {
    "collapsed": false
   },
   "id": "cba440353b6f249f"
  },
  {
   "cell_type": "markdown",
   "source": [
    "Initialize"
   ],
   "metadata": {
    "collapsed": false
   },
   "id": "81728f61cf06c889"
  },
  {
   "cell_type": "code",
   "outputs": [],
   "source": [
    "%load_ext autoreload\n",
    "%autoreload 2"
   ],
   "metadata": {
    "collapsed": false,
    "ExecuteTime": {
     "end_time": "2024-12-02T07:26:19.799195200Z",
     "start_time": "2024-12-02T07:26:19.556924200Z"
    }
   },
   "id": "60a3dfa2c7ca65f6",
   "execution_count": 1
  },
  {
   "cell_type": "code",
   "outputs": [],
   "source": [
    "from scripts.BinanceClient import BinanceClient\n",
    "from scripts import secrets\n",
    "\n",
    "bc = BinanceClient(futures=True, api_key=secrets.get_api_key(), api_secret=secrets.get_secret_key())"
   ],
   "metadata": {
    "collapsed": true,
    "ExecuteTime": {
     "end_time": "2024-12-02T08:16:21.794051900Z",
     "start_time": "2024-12-02T08:16:19.392471600Z"
    }
   },
   "id": "initial_id",
   "execution_count": 42
  },
  {
   "cell_type": "markdown",
   "source": [
    "Create a buy order"
   ],
   "metadata": {
    "collapsed": false
   },
   "id": "7ca9a2ac4ffbbe5e"
  },
  {
   "cell_type": "code",
   "outputs": [
    {
     "data": {
      "text/plain": "{'orderId': 4068650361,\n 'symbol': 'BTCUSDT',\n 'status': 'NEW',\n 'clientOrderId': '013aKcSQfrjYVYQwtLdcWR',\n 'price': '0.00',\n 'avgPrice': '0.00',\n 'origQty': '0.010',\n 'executedQty': '0.000',\n 'cumQty': '0.000',\n 'cumQuote': '0.00000',\n 'timeInForce': 'GTC',\n 'type': 'MARKET',\n 'reduceOnly': False,\n 'closePosition': False,\n 'side': 'BUY',\n 'positionSide': 'BOTH',\n 'stopPrice': '0.00',\n 'workingType': 'CONTRACT_PRICE',\n 'priceProtect': False,\n 'origType': 'MARKET',\n 'priceMatch': 'NONE',\n 'selfTradePreventionMode': 'NONE',\n 'goodTillDate': 0,\n 'updateTime': 1733127418911}"
     },
     "execution_count": 47,
     "metadata": {},
     "output_type": "execute_result"
    }
   ],
   "source": [
    "bc.create_order(\"BTCUSDT\", 'BUY', 'MARKET', quantity=0.01)"
   ],
   "metadata": {
    "collapsed": false,
    "ExecuteTime": {
     "end_time": "2024-12-02T08:16:59.710328500Z",
     "start_time": "2024-12-02T08:16:58.609730200Z"
    }
   },
   "id": "93a6d2a4bd2c5b69",
   "execution_count": 47
  },
  {
   "cell_type": "markdown",
   "source": [
    "Create a sell order"
   ],
   "metadata": {
    "collapsed": false
   },
   "id": "a600e92f394d1fbf"
  },
  {
   "cell_type": "code",
   "outputs": [
    {
     "data": {
      "text/plain": "{'orderId': 4068650373,\n 'symbol': 'BTCUSDT',\n 'status': 'NEW',\n 'clientOrderId': 'IvOKCQt2tXo9qhqq5H9qZb',\n 'price': '0.00',\n 'avgPrice': '0.00',\n 'origQty': '0.010',\n 'executedQty': '0.000',\n 'cumQty': '0.000',\n 'cumQuote': '0.00000',\n 'timeInForce': 'GTC',\n 'type': 'MARKET',\n 'reduceOnly': False,\n 'closePosition': False,\n 'side': 'SELL',\n 'positionSide': 'BOTH',\n 'stopPrice': '0.00',\n 'workingType': 'CONTRACT_PRICE',\n 'priceProtect': False,\n 'origType': 'MARKET',\n 'priceMatch': 'NONE',\n 'selfTradePreventionMode': 'NONE',\n 'goodTillDate': 0,\n 'updateTime': 1733127430730}"
     },
     "execution_count": 48,
     "metadata": {},
     "output_type": "execute_result"
    }
   ],
   "source": [
    "bc.create_order(\"BTCUSDT\", 'SELL', 'MARKET', quantity=0.01)"
   ],
   "metadata": {
    "collapsed": false,
    "ExecuteTime": {
     "end_time": "2024-12-02T08:17:11.586157100Z",
     "start_time": "2024-12-02T08:17:10.608155200Z"
    }
   },
   "id": "b6e870dcc59fc7ee",
   "execution_count": 48
  },
  {
   "cell_type": "markdown",
   "source": [
    "Create a limit order (buy)"
   ],
   "metadata": {
    "collapsed": false
   },
   "id": "a2cc65c9de822e97"
  },
  {
   "cell_type": "code",
   "outputs": [
    {
     "data": {
      "text/plain": "{'orderId': 4068650388,\n 'symbol': 'BTCUSDT',\n 'status': 'NEW',\n 'clientOrderId': 'rZSqCACKSiXiMZuZ98LcXB',\n 'price': '90000.00',\n 'avgPrice': '0.00',\n 'origQty': '0.010',\n 'executedQty': '0.000',\n 'cumQty': '0.000',\n 'cumQuote': '0.00000',\n 'timeInForce': 'GTC',\n 'type': 'LIMIT',\n 'reduceOnly': False,\n 'closePosition': False,\n 'side': 'BUY',\n 'positionSide': 'BOTH',\n 'stopPrice': '0.00',\n 'workingType': 'CONTRACT_PRICE',\n 'priceProtect': False,\n 'origType': 'LIMIT',\n 'priceMatch': 'NONE',\n 'selfTradePreventionMode': 'NONE',\n 'goodTillDate': 0,\n 'updateTime': 1733127436953}"
     },
     "execution_count": 49,
     "metadata": {},
     "output_type": "execute_result"
    }
   ],
   "source": [
    "bc.create_order(\"BTCUSDT\", 'BUY', 'LIMIT', time_in_force=\"GTC\", quantity=0.01, price=90_000)"
   ],
   "metadata": {
    "collapsed": false,
    "ExecuteTime": {
     "end_time": "2024-12-02T08:17:17.808582600Z",
     "start_time": "2024-12-02T08:17:16.656336400Z"
    }
   },
   "id": "b53cb5d6dc69653b",
   "execution_count": 49
  },
  {
   "cell_type": "markdown",
   "source": [
    "Cancel the order"
   ],
   "metadata": {
    "collapsed": false
   },
   "id": "900bfd99c1c28cba"
  },
  {
   "cell_type": "code",
   "outputs": [
    {
     "data": {
      "text/plain": "{'orderId': 4068650388,\n 'symbol': 'BTCUSDT',\n 'status': 'CANCELED',\n 'clientOrderId': 'rZSqCACKSiXiMZuZ98LcXB',\n 'price': '90000.00',\n 'avgPrice': '0.00',\n 'origQty': '0.010',\n 'executedQty': '0.000',\n 'cumQty': '0.000',\n 'cumQuote': '0.00000',\n 'timeInForce': 'GTC',\n 'type': 'LIMIT',\n 'reduceOnly': False,\n 'closePosition': False,\n 'side': 'BUY',\n 'positionSide': 'BOTH',\n 'stopPrice': '0.00',\n 'workingType': 'CONTRACT_PRICE',\n 'priceProtect': False,\n 'origType': 'LIMIT',\n 'priceMatch': 'NONE',\n 'selfTradePreventionMode': 'NONE',\n 'goodTillDate': 0,\n 'updateTime': 1733127455520}"
     },
     "execution_count": 50,
     "metadata": {},
     "output_type": "execute_result"
    }
   ],
   "source": [
    "bc.cancel_order('BTCUSDT', order_id='4068650388', orig_client_order_id='rZSqCACKSiXiMZuZ98LcXB')"
   ],
   "metadata": {
    "collapsed": false,
    "ExecuteTime": {
     "end_time": "2024-12-02T08:17:36.327925Z",
     "start_time": "2024-12-02T08:17:35.180031500Z"
    }
   },
   "id": "67a6a59fe3b11066",
   "execution_count": 50
  }
 ],
 "metadata": {
  "kernelspec": {
   "display_name": "Python 3",
   "language": "python",
   "name": "python3"
  },
  "language_info": {
   "codemirror_mode": {
    "name": "ipython",
    "version": 2
   },
   "file_extension": ".py",
   "mimetype": "text/x-python",
   "name": "python",
   "nbconvert_exporter": "python",
   "pygments_lexer": "ipython2",
   "version": "2.7.6"
  }
 },
 "nbformat": 4,
 "nbformat_minor": 5
}
