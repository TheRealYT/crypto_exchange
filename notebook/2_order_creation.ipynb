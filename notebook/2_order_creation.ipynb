{
 "cells": [
  {
   "cell_type": "markdown",
   "source": [],
   "metadata": {
    "collapsed": false
   },
   "id": "cba440353b6f249f"
  },
  {
   "cell_type": "markdown",
   "source": [
    "Initialize"
   ],
   "metadata": {
    "collapsed": false
   },
   "id": "81728f61cf06c889"
  },
  {
   "cell_type": "code",
   "outputs": [],
   "source": [
    "%load_ext autoreload\n",
    "%autoreload 2"
   ],
   "metadata": {
    "collapsed": false,
    "ExecuteTime": {
     "end_time": "2024-12-01T13:27:40.576505100Z",
     "start_time": "2024-12-01T13:27:40.001772200Z"
    }
   },
   "id": "60a3dfa2c7ca65f6",
   "execution_count": 8
  },
  {
   "cell_type": "code",
   "outputs": [],
   "source": [
    "from scripts.BinanceClient import BinanceClient\n",
    "from scripts import secrets"
   ],
   "metadata": {
    "collapsed": true,
    "ExecuteTime": {
     "end_time": "2024-12-01T13:27:55.590330200Z",
     "start_time": "2024-12-01T13:27:55.218751Z"
    }
   },
   "id": "initial_id",
   "execution_count": 9
  },
  {
   "cell_type": "code",
   "outputs": [],
   "source": [
    "futures = BinanceClient(futures=True, api_key=secrets.get_api_key(), api_secret=secrets.get_secret_key())\n",
    "spot = BinanceClient(futures=True, api_key=secrets.get_api_key(), api_secret=secrets.get_secret_key())"
   ],
   "metadata": {
    "collapsed": false,
    "ExecuteTime": {
     "end_time": "2024-12-01T13:27:58.951953500Z",
     "start_time": "2024-12-01T13:27:56.418737200Z"
    }
   },
   "id": "bdfed8a37dddbcd4",
   "execution_count": 10
  },
  {
   "cell_type": "code",
   "outputs": [
    {
     "data": {
      "text/plain": "{'orderId': 4068567674,\n 'symbol': 'BTCUSDT',\n 'status': 'NEW',\n 'clientOrderId': 'JCbYU5yE6p76zKn8cncjkk',\n 'price': '0.00',\n 'avgPrice': '0.00',\n 'origQty': '0.010',\n 'executedQty': '0.000',\n 'cumQty': '0.000',\n 'cumQuote': '0.00000',\n 'timeInForce': 'GTC',\n 'type': 'MARKET',\n 'reduceOnly': False,\n 'closePosition': False,\n 'side': 'BUY',\n 'positionSide': 'BOTH',\n 'stopPrice': '0.00',\n 'workingType': 'CONTRACT_PRICE',\n 'priceProtect': False,\n 'origType': 'MARKET',\n 'priceMatch': 'NONE',\n 'selfTradePreventionMode': 'NONE',\n 'goodTillDate': 0,\n 'updateTime': 1733060084472}"
     },
     "execution_count": 19,
     "metadata": {},
     "output_type": "execute_result"
    }
   ],
   "source": [
    "spot.create_order(\"BTCUSDT\", 'BUY', 'MARKET', quantity=0.01)"
   ],
   "metadata": {
    "collapsed": false,
    "ExecuteTime": {
     "end_time": "2024-12-01T13:34:45.610312700Z",
     "start_time": "2024-12-01T13:34:42.069655600Z"
    }
   },
   "id": "93a6d2a4bd2c5b69",
   "execution_count": 19
  },
  {
   "cell_type": "code",
   "outputs": [],
   "source": [],
   "metadata": {
    "collapsed": false
   },
   "id": "67a6a59fe3b11066"
  }
 ],
 "metadata": {
  "kernelspec": {
   "display_name": "Python 3",
   "language": "python",
   "name": "python3"
  },
  "language_info": {
   "codemirror_mode": {
    "name": "ipython",
    "version": 2
   },
   "file_extension": ".py",
   "mimetype": "text/x-python",
   "name": "python",
   "nbconvert_exporter": "python",
   "pygments_lexer": "ipython2",
   "version": "2.7.6"
  }
 },
 "nbformat": 4,
 "nbformat_minor": 5
}
