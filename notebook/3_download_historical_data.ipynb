{
 "cells": [
  {
   "cell_type": "markdown",
   "source": [
    "Initialize"
   ],
   "metadata": {
    "collapsed": false
   },
   "id": "fc59906c1a1848e"
  },
  {
   "cell_type": "code",
   "outputs": [
    {
     "name": "stdout",
     "output_type": "stream",
     "text": [
      "The autoreload extension is already loaded. To reload it, use:\n",
      "  %reload_ext autoreload\n"
     ]
    }
   ],
   "source": [
    "%load_ext autoreload\n",
    "%autoreload 2"
   ],
   "metadata": {
    "collapsed": false,
    "ExecuteTime": {
     "end_time": "2024-12-02T18:43:38.349731100Z",
     "start_time": "2024-12-02T18:43:38.249185Z"
    }
   },
   "id": "f0d0b9dfe34377ef",
   "execution_count": 11
  },
  {
   "cell_type": "code",
   "outputs": [],
   "source": [
    "import time\n",
    "import csv\n",
    "from alive_progress import alive_bar\n",
    "from scripts.BinanceClient import BinanceClient\n",
    "from scripts import database\n",
    "\n",
    "bc = BinanceClient(futures=True)"
   ],
   "metadata": {
    "collapsed": false,
    "ExecuteTime": {
     "end_time": "2024-12-02T20:01:00.213416200Z",
     "start_time": "2024-12-02T20:00:58.519684800Z"
    }
   },
   "id": "f41a51038f65faeb",
   "execution_count": 23
  },
  {
   "cell_type": "markdown",
   "source": [
    "1. Get selected symbols"
   ],
   "metadata": {
    "collapsed": false
   },
   "id": "6d62d303df8764ae"
  },
  {
   "cell_type": "code",
   "outputs": [
    {
     "name": "stdout",
     "output_type": "stream",
     "text": [
      "['RENUSDT', 'RSRUSDT', 'LINAUSDT', 'TRXUSDT', 'IOSTUSDT', 'BNBUSDT', 'DYDXUSDT', 'SOLUSDT', 'STORJUSDT', 'BTCUSDT', 'IOTAUSDT', 'DOGEUSDT', 'C98USDT', 'XRPUSDT', 'ATAUSDT', 'XLMUSDT', 'IOTXUSDT', 'ADAUSDT', 'NEARUSDT', 'CRVUSDT', 'BCHUSDT', 'DASHUSDT', 'ETHUSDT', 'KAVAUSDT', 'FTMUSDT', 'OGNUSDT', 'COTIUSDT', 'LINKUSDT', 'ANKRUSDT', 'DOTUSDT']\n"
     ]
    }
   ],
   "source": [
    "symbols = database.read(\"symbols.csv\")\n",
    "print(symbols)"
   ],
   "metadata": {
    "collapsed": false,
    "ExecuteTime": {
     "end_time": "2024-12-02T20:01:04.193845Z",
     "start_time": "2024-12-02T20:01:04.072360900Z"
    }
   },
   "id": "7549f657984e61c2",
   "execution_count": 24
  },
  {
   "cell_type": "markdown",
   "source": [
    "2. Download historical data"
   ],
   "metadata": {
    "collapsed": false
   },
   "id": "ddb5a71d1e19afce"
  },
  {
   "cell_type": "code",
   "outputs": [
    {
     "ename": "KeyboardInterrupt",
     "evalue": "",
     "output_type": "error",
     "traceback": [
      "\u001B[1;31m---------------------------------------------------------------------------\u001B[0m",
      "\u001B[1;31mKeyboardInterrupt\u001B[0m                         Traceback (most recent call last)",
      "Cell \u001B[1;32mIn[79], line 13\u001B[0m\n\u001B[0;32m     10\u001B[0m initial_date \u001B[38;5;241m=\u001B[39m end_date \u001B[38;5;241m-\u001B[39m (days_back \u001B[38;5;241m*\u001B[39m \u001B[38;5;241m24\u001B[39m \u001B[38;5;241m*\u001B[39m \u001B[38;5;241m3600\u001B[39m \u001B[38;5;241m*\u001B[39m \u001B[38;5;241m1000\u001B[39m)  \u001B[38;5;66;03m# {days_back} days behind\u001B[39;00m\n\u001B[0;32m     12\u001B[0m i \u001B[38;5;241m=\u001B[39m \u001B[38;5;241m0\u001B[39m\n\u001B[1;32m---> 13\u001B[0m \u001B[38;5;28;01mfor\u001B[39;00m symbol \u001B[38;5;129;01min\u001B[39;00m \u001B[43msymbols\u001B[49m:\n\u001B[0;32m     14\u001B[0m     i \u001B[38;5;241m+\u001B[39m\u001B[38;5;241m=\u001B[39m \u001B[38;5;241m1\u001B[39m\n\u001B[0;32m     15\u001B[0m     \u001B[38;5;28;01mwith\u001B[39;00m alive_bar(total_candles, force_tty\u001B[38;5;241m=\u001B[39m\u001B[38;5;28;01mTrue\u001B[39;00m, title\u001B[38;5;241m=\u001B[39m\u001B[38;5;124mf\u001B[39m\u001B[38;5;124m'\u001B[39m\u001B[38;5;132;01m{\u001B[39;00mi\u001B[38;5;132;01m}\u001B[39;00m\u001B[38;5;124m / \u001B[39m\u001B[38;5;132;01m{\u001B[39;00m\u001B[38;5;28mlen\u001B[39m(symbols)\u001B[38;5;132;01m}\u001B[39;00m\u001B[38;5;124m \u001B[39m\u001B[38;5;132;01m{\u001B[39;00msymbol\u001B[38;5;132;01m}\u001B[39;00m\u001B[38;5;124m'\u001B[39m) \u001B[38;5;28;01mas\u001B[39;00m bar:\n",
      "File \u001B[1;32m_pydevd_bundle\\\\pydevd_cython_win32_312_64.pyx:1187\u001B[0m, in \u001B[0;36m_pydevd_bundle.pydevd_cython_win32_312_64.SafeCallWrapper.__call__\u001B[1;34m()\u001B[0m\n",
      "File \u001B[1;32m_pydevd_bundle\\\\pydevd_cython_win32_312_64.pyx:627\u001B[0m, in \u001B[0;36m_pydevd_bundle.pydevd_cython_win32_312_64.PyDBFrame.trace_dispatch\u001B[1;34m()\u001B[0m\n",
      "File \u001B[1;32m_pydevd_bundle\\\\pydevd_cython_win32_312_64.pyx:937\u001B[0m, in \u001B[0;36m_pydevd_bundle.pydevd_cython_win32_312_64.PyDBFrame.trace_dispatch\u001B[1;34m()\u001B[0m\n",
      "File \u001B[1;32m_pydevd_bundle\\\\pydevd_cython_win32_312_64.pyx:928\u001B[0m, in \u001B[0;36m_pydevd_bundle.pydevd_cython_win32_312_64.PyDBFrame.trace_dispatch\u001B[1;34m()\u001B[0m\n",
      "File \u001B[1;32m_pydevd_bundle\\\\pydevd_cython_win32_312_64.pyx:585\u001B[0m, in \u001B[0;36m_pydevd_bundle.pydevd_cython_win32_312_64.PyDBFrame.do_wait_suspend\u001B[1;34m()\u001B[0m\n",
      "File \u001B[1;32mC:\\Program Files\\JetBrains\\PyCharm 2023.3.3\\plugins\\python\\helpers\\pydev\\pydevd.py:1184\u001B[0m, in \u001B[0;36mPyDB.do_wait_suspend\u001B[1;34m(self, thread, frame, event, arg, send_suspend_message, is_unhandled_exception)\u001B[0m\n\u001B[0;32m   1181\u001B[0m         from_this_thread\u001B[38;5;241m.\u001B[39mappend(frame_id)\n\u001B[0;32m   1183\u001B[0m \u001B[38;5;28;01mwith\u001B[39;00m \u001B[38;5;28mself\u001B[39m\u001B[38;5;241m.\u001B[39m_threads_suspended_single_notification\u001B[38;5;241m.\u001B[39mnotify_thread_suspended(thread_id, stop_reason):\n\u001B[1;32m-> 1184\u001B[0m     \u001B[38;5;28;43mself\u001B[39;49m\u001B[38;5;241;43m.\u001B[39;49m\u001B[43m_do_wait_suspend\u001B[49m\u001B[43m(\u001B[49m\u001B[43mthread\u001B[49m\u001B[43m,\u001B[49m\u001B[43m \u001B[49m\u001B[43mframe\u001B[49m\u001B[43m,\u001B[49m\u001B[43m \u001B[49m\u001B[43mevent\u001B[49m\u001B[43m,\u001B[49m\u001B[43m \u001B[49m\u001B[43marg\u001B[49m\u001B[43m,\u001B[49m\u001B[43m \u001B[49m\u001B[43msuspend_type\u001B[49m\u001B[43m,\u001B[49m\u001B[43m \u001B[49m\u001B[43mfrom_this_thread\u001B[49m\u001B[43m)\u001B[49m\n",
      "File \u001B[1;32mC:\\Program Files\\JetBrains\\PyCharm 2023.3.3\\plugins\\python\\helpers\\pydev\\pydevd.py:1199\u001B[0m, in \u001B[0;36mPyDB._do_wait_suspend\u001B[1;34m(self, thread, frame, event, arg, suspend_type, from_this_thread)\u001B[0m\n\u001B[0;32m   1196\u001B[0m             \u001B[38;5;28mself\u001B[39m\u001B[38;5;241m.\u001B[39m_call_mpl_hook()\n\u001B[0;32m   1198\u001B[0m         \u001B[38;5;28mself\u001B[39m\u001B[38;5;241m.\u001B[39mprocess_internal_commands()\n\u001B[1;32m-> 1199\u001B[0m         \u001B[43mtime\u001B[49m\u001B[38;5;241;43m.\u001B[39;49m\u001B[43msleep\u001B[49m\u001B[43m(\u001B[49m\u001B[38;5;241;43m0.01\u001B[39;49m\u001B[43m)\u001B[49m\n\u001B[0;32m   1201\u001B[0m \u001B[38;5;28mself\u001B[39m\u001B[38;5;241m.\u001B[39mcancel_async_evaluation(get_current_thread_id(thread), \u001B[38;5;28mstr\u001B[39m(\u001B[38;5;28mid\u001B[39m(frame)))\n\u001B[0;32m   1203\u001B[0m \u001B[38;5;66;03m# process any stepping instructions\u001B[39;00m\n",
      "\u001B[1;31mKeyboardInterrupt\u001B[0m: "
     ]
    }
   ],
   "source": [
    "limit_candles = 1500\n",
    "interval = 60_000  # 1min interval\n",
    "delta = limit_candles * interval  # time difference between candles\n",
    "\n",
    "days_back = 1000\n",
    "total_candles = days_back * 24 * (interval // 1000)  # total candles to be collected\n",
    "\n",
    "date_loaded = False\n",
    "end_date = bc.current_time()\n",
    "initial_date = end_date - (days_back * 24 * 3600 * 1000)  # {days_back} days behind\n",
    "\n",
    "i = 0\n",
    "for symbol in symbols:\n",
    "    i += 1\n",
    "    with alive_bar(total_candles, force_tty=True, title=f'{i} / {len(symbols)} {symbol}') as bar:\n",
    "        start_time = initial_date\n",
    "        num_rows = 0  # rows including header\n",
    "\n",
    "        file_name = f'{symbol}.csv'\n",
    "        if database.exits(file_name):\n",
    "            with open(database.to_db_path(file_name), 'r') as file:\n",
    "                for row in csv.reader(file):\n",
    "                    if not date_loaded and num_rows == 1:\n",
    "                        # set to the first run date\n",
    "                        initial_date = int(float(row[0]))\n",
    "                        end_date = initial_date + (days_back * 24 * 3600 * 1000)\n",
    "                        date_loaded = True\n",
    "                    num_rows += 1\n",
    "\n",
    "            if num_rows > total_candles:  # data already collected\n",
    "                continue\n",
    "\n",
    "            if num_rows > 1:  # more than header\n",
    "                start_time = int(float(row[0])) + interval  # continue from the last timestamp\n",
    "        else:\n",
    "            database.write(file_name, ['timestamp', 'open', 'high', 'low', 'close', 'volume'])\n",
    "            num_rows = 1\n",
    "\n",
    "        bar(num_rows - 1)\n",
    "\n",
    "        while num_rows < total_candles + 1:  # 1 for header row\n",
    "            end_time = start_time + delta\n",
    "\n",
    "            symbol_data = bc.get_historical_data(\n",
    "                symbol,\n",
    "                interval='1m',\n",
    "                start_time=start_time,\n",
    "                end_time=end_time,\n",
    "            )\n",
    "\n",
    "            for data in symbol_data:\n",
    "                database.write(file_name, data)\n",
    "                num_rows += 1\n",
    "\n",
    "            start_time = int(data[0]) + interval\n",
    "            bar(len(symbol_data))\n",
    "            time.sleep(1)\n",
    "\n",
    "        print(f'{symbol} done!')\n",
    "        time.sleep(2)"
   ],
   "metadata": {
    "collapsed": false,
    "ExecuteTime": {
     "end_time": "2024-12-02T21:27:39.956292900Z",
     "start_time": "2024-12-02T21:27:30.247683Z"
    }
   },
   "id": "f3da74557d252c43",
   "execution_count": 79
  },
  {
   "cell_type": "code",
   "outputs": [],
   "source": [],
   "metadata": {
    "collapsed": false
   },
   "id": "37593158adb0bdcd"
  }
 ],
 "metadata": {
  "kernelspec": {
   "display_name": "Python 3",
   "language": "python",
   "name": "python3"
  },
  "language_info": {
   "codemirror_mode": {
    "name": "ipython",
    "version": 2
   },
   "file_extension": ".py",
   "mimetype": "text/x-python",
   "name": "python",
   "nbconvert_exporter": "python",
   "pygments_lexer": "ipython2",
   "version": "2.7.6"
  }
 },
 "nbformat": 4,
 "nbformat_minor": 5
}
